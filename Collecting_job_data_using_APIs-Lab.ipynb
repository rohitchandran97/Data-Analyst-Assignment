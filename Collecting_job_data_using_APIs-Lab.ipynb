{
 "cells": [
  {
   "cell_type": "markdown",
   "metadata": {},
   "source": [
    "# **Collecting Job Data Using APIs**\n"
   ]
  },
  {
   "cell_type": "markdown",
   "metadata": {},
   "source": [
    "## Objectives\n"
   ]
  },
  {
   "cell_type": "markdown",
   "metadata": {},
   "source": [
    "After completing this lab, you will be able to:\n"
   ]
  },
  {
   "cell_type": "markdown",
   "metadata": {},
   "source": [
    "*   Collect job data from GitHub Jobs API\n",
    "*   Store the collected data into an excel spreadsheet.\n"
   ]
  },
  {
   "cell_type": "markdown",
   "metadata": {},
   "source": [
    "To run the actual lab, firstly we need to click on the [Jobs_API](https://cf-courses-data.s3.us.cloud-object-storage.appdomain.cloud/IBM-DA0321EN-SkillsNetwork/labs/module%201/Accessing%20Data%20Using%20APIs/Jobs_API.ipynb) notebook link. The file contains flask code which is required to run the Jobs API data.\n"
   ]
  },
  {
   "cell_type": "markdown",
   "metadata": {},
   "source": [
    "## Dataset Used in this Assignment\n",
    "\n",
    "The dataset used comes from the following source: https://www.kaggle.com/promptcloud/jobs-on-naukricom under the under a **Public Domain license**.\n",
    " "
   ]
  },
  {
   "cell_type": "markdown",
   "metadata": {},
   "source": [
    "let's find the number of job postings for the following locations using the API:\n",
    "\n",
    "* Los Angeles\n",
    "* New York\n",
    "* San Francisco\n",
    "* Washington DC\n",
    "* Seattle\n",
    "* Austin\n",
    "* Detroit\n"
   ]
  },
  {
   "cell_type": "code",
   "execution_count": 24,
   "metadata": {
    "tags": []
   },
   "outputs": [],
   "source": [
    "#Import required libraries\n",
    "import pandas as pd\n",
    "import json\n"
   ]
  },
  {
   "cell_type": "code",
   "execution_count": 9,
   "metadata": {
    "tags": []
   },
   "outputs": [],
   "source": [
    "# function to collect job_postings\n",
    "def get_number_of_jobs_T(technology):\n",
    "    api_url=\"http://127.0.0.1:5000/data\"\n",
    "    payload = { \"Key Skills\":technology}\n",
    "    response = requests.get(api_url, params=payload)\n",
    "    response.raise_for_status()\n",
    "    data = response.json()\n",
    "    job_postings=len(data)\n",
    "\n",
    "    return technology,job_postings"
   ]
  },
  {
   "cell_type": "markdown",
   "metadata": {},
   "source": [
    "Called the function for Python and checking if it works.\n"
   ]
  },
  {
   "cell_type": "code",
   "execution_count": 25,
   "metadata": {
    "tags": []
   },
   "outputs": [
    {
     "data": {
      "text/plain": [
       "('Python', 1173)"
      ]
     },
     "execution_count": 25,
     "metadata": {},
     "output_type": "execute_result"
    }
   ],
   "source": [
    "get_number_of_jobs_T(\"Python\")"
   ]
  },
  {
   "cell_type": "markdown",
   "metadata": {},
   "source": [
    " Created a function to find number of jobs in US for a location of one's choice\n"
   ]
  },
  {
   "cell_type": "code",
   "execution_count": 26,
   "metadata": {
    "tags": []
   },
   "outputs": [],
   "source": [
    "def get_number_of_jobs_L(locations):\n",
    "    payload = {\"Location\": locations}\n",
    "    response = requests.get(api_url, params=payload)\n",
    "    response.raise_for_status()\n",
    "    data = response.json()\n",
    "    job_postings = len(data)\n",
    "    return locations, job_postings"
   ]
  },
  {
   "cell_type": "code",
   "execution_count": 43,
   "metadata": {
    "tags": []
   },
   "outputs": [
    {
     "data": {
      "text/plain": [
       "('Los Angeles', 3)"
      ]
     },
     "execution_count": 43,
     "metadata": {},
     "output_type": "execute_result"
    }
   ],
   "source": [
    "get_number_of_jobs_L(\"Los Angeles\")"
   ]
  },
  {
   "cell_type": "markdown",
   "metadata": {},
   "source": [
    " Now let's Store the results in an excel file\n"
   ]
  },
  {
   "cell_type": "code",
   "execution_count": 44,
   "metadata": {
    "tags": []
   },
   "outputs": [],
   "source": [
    "# python list of all techs for which we need to find the number of jobs postings\n",
    "locations = [\"Los Angeles\", \"New York\", \"San Francisco\", \"Washington DC\", \"Seattle\", \"Austin\", \"Detroit\"]"
   ]
  },
  {
   "cell_type": "code",
   "execution_count": 45,
   "metadata": {
    "tags": []
   },
   "outputs": [
    {
     "name": "stdout",
     "output_type": "stream",
     "text": [
      "Requirement already satisfied: openpyxl in c:\\users\\acer\\anaconda3\\lib\\site-packages (3.1.5)\n",
      "Requirement already satisfied: et-xmlfile in c:\\users\\acer\\anaconda3\\lib\\site-packages (from openpyxl) (1.1.0)\n",
      "Note: you may need to restart the kernel to use updated packages.\n"
     ]
    }
   ],
   "source": [
    "# required  libraries are imported to create excel spreadsheet.\n",
    "%pip install openpyxl\n",
    "from openpyxl import Workbook"
   ]
  },
  {
   "cell_type": "markdown",
   "metadata": {},
   "source": [
    "Create a workbook and select the active worksheet\n"
   ]
  },
  {
   "cell_type": "code",
   "execution_count": 47,
   "metadata": {
    "tags": []
   },
   "outputs": [],
   "source": [
    "#  a new Excel file\n",
    "wb = Workbook()\n",
    "ws = wb.active\n",
    "\n",
    "# the header row\n",
    "ws['A1'] = 'Job Title'\n",
    "ws['B1'] = 'Job Experience Required'\n",
    "ws['C1'] = 'Key Skills'\n",
    "ws['D1'] = 'Role Category'\n",
    "ws['E1'] = 'Location'\n",
    "ws['F1'] = 'Functional Area'\n",
    "ws['G1'] = 'Industry'\n",
    "ws['H1'] = 'Role'"
   ]
  },
  {
   "cell_type": "markdown",
   "metadata": {},
   "source": [
    "Now let's find the number of jobs postings for each of the technology in the above list and save the technology name &  number of jobs postings into the excel spreadsheet.\n"
   ]
  },
  {
   "cell_type": "code",
   "execution_count": 48,
   "metadata": {
    "tags": []
   },
   "outputs": [],
   "source": [
    "def get_job_listings(state):\n",
    "    api_url=\"http://127.0.0.1:5000/data\"\n",
    "    params = {\n",
    "        \"Location\": state\n",
    "    }\n",
    "    try:\n",
    "        response = requests.get(api_url, params=params)\n",
    "        job_listings = response.json()\n",
    "        return job_listings\n",
    "        \n",
    "    except requests.RequestException as e:\n",
    "        print(f\"Error making API request: {e}\")\n",
    "        return []"
   ]
  },
  {
   "cell_type": "code",
   "execution_count": 49,
   "metadata": {
    "tags": []
   },
   "outputs": [
    {
     "name": "stdout",
     "output_type": "stream",
     "text": [
      "Los Angeles 640\n",
      "New York 3226\n",
      "San Francisco 435\n",
      "Washington DC 5316\n",
      "Seattle 3375\n",
      "Austin 434\n",
      "Detroit 3945\n"
     ]
    }
   ],
   "source": [
    "for state in locations:\n",
    "    job_listings =  get_job_listings(state)\n",
    "    print(state,len(job_listings))\n",
    "    for job in job_listings:\n",
    "        ws.append([job['Job Title'], job['Job Experience Required'], job['Key Skills'], job['Role Category'], job['Location'], job['Functional Area'], job['Industry'], job['Role']])"
   ]
  },
  {
   "cell_type": "markdown",
   "metadata": {
    "tags": []
   },
   "source": [
    "Save into an excel spreadsheet named 'github-job-postings.xlsx'."
   ]
  },
  {
   "cell_type": "code",
   "execution_count": 50,
   "metadata": {
    "tags": []
   },
   "outputs": [],
   "source": [
    "wb.save('github-job-postings.xlsx')"
   ]
  },
  {
   "cell_type": "markdown",
   "metadata": {},
   "source": [
    "Similiarly Collected the number of job postings for the following languages using the API:\n",
    "\n",
    "*   C\n",
    "*   C#\n",
    "*   C++\n",
    "*   Java\n",
    "*   JavaScript\n",
    "*   Python\n",
    "*   Scala\n",
    "*   Oracle\n",
    "*   SQL Server\n",
    "*   MySQL Server\n",
    "*   PostgreSQL\n",
    "*   MongoDB\n"
   ]
  },
  {
   "cell_type": "code",
   "execution_count": 51,
   "metadata": {
    "tags": []
   },
   "outputs": [],
   "source": [
    "tech=[\"C\",\"C#\",\"C++\",\"Java\",\"JavaScript\",\"Python\",\"Scala\",\"Oracle\",\"SQL Server\",\"MySQL Server\",\"PostgreSQL\",\"MongoDB\"]\n",
    "\n",
    "\n",
    "# Create a new worksheet\n",
    "ws = wb.create_sheet(\"MyNewSheet\")\n",
    "# Set the header row\n",
    "ws['A1'] = 'Job Title'\n",
    "ws['B1'] = 'Job Experience Required'\n",
    "ws['C1'] = 'Key Skills'\n",
    "ws['D1'] = 'Role Category'\n",
    "ws['E1'] = 'Location'\n",
    "ws['F1'] = 'Functional Area'\n",
    "ws['G1'] = 'Industry'\n",
    "ws['H1'] = 'Role'"
   ]
  },
  {
   "cell_type": "code",
   "execution_count": 52,
   "metadata": {
    "tags": []
   },
   "outputs": [],
   "source": [
    "def get_number_of_jobs(technology):\n",
    "    api_url=\"http://127.0.0.1:5000/data\"\n",
    "    payload = { \"Key Skills\":technology}\n",
    "    response = requests.get(api_url, params=payload)\n",
    "    response.raise_for_status()\n",
    "    job_postings = response.json()\n",
    "    #your code goes here\n",
    "    return job_postings"
   ]
  },
  {
   "cell_type": "code",
   "execution_count": 53,
   "metadata": {
    "tags": []
   },
   "outputs": [
    {
     "name": "stdout",
     "output_type": "stream",
     "text": [
      "C 13498\n",
      "C# 333\n",
      "C++ 305\n",
      "Java 2609\n",
      "JavaScript 355\n",
      "Python 1173\n",
      "Scala 33\n",
      "Oracle 784\n",
      "SQL Server 250\n",
      "MySQL Server 0\n",
      "PostgreSQL 10\n",
      "MongoDB 174\n"
     ]
    }
   ],
   "source": [
    "for i in range(len(tech)):\n",
    "    job_listings = get_number_of_jobs(tech[i])\n",
    "    print(tech[i], len(job_listings))\n",
    "    for job in job_listings:\n",
    "        ws.append([job['Job Title'], job['Job Experience Required'], job['Key Skills'], job['Role Category'], job['Location'], job['Functional Area'], job['Industry'], job['Role']])"
   ]
  },
  {
   "cell_type": "code",
   "execution_count": 54,
   "metadata": {
    "tags": []
   },
   "outputs": [],
   "source": [
    "wb.save('github-job-postings.xlsx')"
   ]
  },
  {
   "cell_type": "markdown",
   "metadata": {},
   "source": [
    "<!--| Date (YYYY-MM-DD) | Version | Changed By        | Change Description                 |\n",
    "| ----------------- | ------- | ----------------- | ---------------------------------- | \n",
    "| 2022-01-19        | 0.3     | Lakshmi Holla        | Added changes in the markdown      |\n",
    "| 2021-06-25        | 0.2     | Malika            | Updated GitHub job json link       |\n",
    "| 2020-10-17        | 0.1     | Ramesh Sannareddy | Created initial version of the lab |--!>\n"
   ]
  }
 ],
 "metadata": {
  "kernelspec": {
   "display_name": "base",
   "language": "python",
   "name": "python3"
  },
  "language_info": {
   "codemirror_mode": {
    "name": "ipython",
    "version": 3
   },
   "file_extension": ".py",
   "mimetype": "text/x-python",
   "name": "python",
   "nbconvert_exporter": "python",
   "pygments_lexer": "ipython3",
   "version": "3.11.7"
  },
  "prev_pub_hash": "1b8d0eda4e37134d8622f6a7e43672215f794f9967f66a185fbdc3f7896bbb36"
 },
 "nbformat": 4,
 "nbformat_minor": 4
}

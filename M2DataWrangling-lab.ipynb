{
  "cells": [
    {
      "cell_type": "markdown",
      "metadata": {},
      "source": [
        "# **Data Wrangling Lab**\n"
      ]
    },
    {
      "cell_type": "markdown",
      "metadata": {},
      "source": [
        "## Objectives\n"
      ]
    },
    {
      "cell_type": "markdown",
      "metadata": {},
      "source": [
        "-   Identify duplicate values in the dataset.\n",
        "\n",
        "-   Remove duplicate values from the dataset.\n",
        "\n",
        "-   Identify missing values in the dataset.\n",
        "\n",
        "-   Impute the missing values in the dataset.\n",
        "\n",
        "-   Normalize data in the dataset.\n"
      ]
    },
    {
      "cell_type": "markdown",
      "metadata": {},
      "source": [
        "<hr>\n"
      ]
    },
    {
      "cell_type": "markdown",
      "metadata": {},
      "source": [
        "Imports pandas module.\n"
      ]
    },
    {
      "cell_type": "code",
      "execution_count": 2,
      "metadata": {
        "trusted": true
      },
      "outputs": [],
      "source": [
        "import pandas as pd"
      ]
    },
    {
      "cell_type": "markdown",
      "metadata": {},
      "source": [
        "Load the dataset into a dataframe.\n"
      ]
    },
    {
      "cell_type": "code",
      "execution_count": 3,
      "metadata": {
        "trusted": true
      },
      "outputs": [],
      "source": [
        "df = pd.read_csv(\"https://cf-courses-data.s3.us.cloud-object-storage.appdomain.cloud/IBM-DA0321EN-SkillsNetwork/LargeData/m1_survey_data.csv\")"
      ]
    },
    {
      "cell_type": "markdown",
      "metadata": {},
      "source": [
        "## Finding duplicates\n"
      ]
    },
    {
      "cell_type": "code",
      "execution_count": 4,
      "metadata": {
        "trusted": true
      },
      "outputs": [
        {
          "name": "stdout",
          "output_type": "stream",
          "text": [
            "Number of duplicate rows: 154\n"
          ]
        }
      ],
      "source": [
        "num_duplicates = df.duplicated().sum()\n",
        "\n",
        "print(f\"Number of duplicate rows: {num_duplicates}\")"
      ]
    },
    {
      "cell_type": "code",
      "execution_count": 5,
      "metadata": {
        "trusted": true
      },
      "outputs": [
        {
          "data": {
            "text/html": [
              "<div>\n",
              "<style scoped>\n",
              "    .dataframe tbody tr th:only-of-type {\n",
              "        vertical-align: middle;\n",
              "    }\n",
              "\n",
              "    .dataframe tbody tr th {\n",
              "        vertical-align: top;\n",
              "    }\n",
              "\n",
              "    .dataframe thead th {\n",
              "        text-align: right;\n",
              "    }\n",
              "</style>\n",
              "<table border=\"1\" class=\"dataframe\">\n",
              "  <thead>\n",
              "    <tr style=\"text-align: right;\">\n",
              "      <th></th>\n",
              "      <th>Respondent</th>\n",
              "      <th>MainBranch</th>\n",
              "      <th>Hobbyist</th>\n",
              "      <th>OpenSourcer</th>\n",
              "      <th>OpenSource</th>\n",
              "      <th>Employment</th>\n",
              "      <th>Country</th>\n",
              "      <th>Student</th>\n",
              "      <th>EdLevel</th>\n",
              "      <th>UndergradMajor</th>\n",
              "      <th>...</th>\n",
              "      <th>WelcomeChange</th>\n",
              "      <th>SONewContent</th>\n",
              "      <th>Age</th>\n",
              "      <th>Gender</th>\n",
              "      <th>Trans</th>\n",
              "      <th>Sexuality</th>\n",
              "      <th>Ethnicity</th>\n",
              "      <th>Dependents</th>\n",
              "      <th>SurveyLength</th>\n",
              "      <th>SurveyEase</th>\n",
              "    </tr>\n",
              "  </thead>\n",
              "  <tbody>\n",
              "    <tr>\n",
              "      <th>1168</th>\n",
              "      <td>2339</td>\n",
              "      <td>I am a developer by profession</td>\n",
              "      <td>Yes</td>\n",
              "      <td>Once a month or more often</td>\n",
              "      <td>OSS is, on average, of HIGHER quality than pro...</td>\n",
              "      <td>Employed full-time</td>\n",
              "      <td>United States</td>\n",
              "      <td>No</td>\n",
              "      <td>Some college/university study without earning ...</td>\n",
              "      <td>Computer science, computer engineering, or sof...</td>\n",
              "      <td>...</td>\n",
              "      <td>Just as welcome now as I felt last year</td>\n",
              "      <td>NaN</td>\n",
              "      <td>24.0</td>\n",
              "      <td>Man</td>\n",
              "      <td>No</td>\n",
              "      <td>Straight / Heterosexual</td>\n",
              "      <td>White or of European descent</td>\n",
              "      <td>No</td>\n",
              "      <td>Appropriate in length</td>\n",
              "      <td>Easy</td>\n",
              "    </tr>\n",
              "    <tr>\n",
              "      <th>1169</th>\n",
              "      <td>2342</td>\n",
              "      <td>I am a developer by profession</td>\n",
              "      <td>Yes</td>\n",
              "      <td>Never</td>\n",
              "      <td>The quality of OSS and closed source software ...</td>\n",
              "      <td>Employed full-time</td>\n",
              "      <td>United Kingdom</td>\n",
              "      <td>No</td>\n",
              "      <td>Some college/university study without earning ...</td>\n",
              "      <td>Information systems, information technology, o...</td>\n",
              "      <td>...</td>\n",
              "      <td>Somewhat more welcome now than last year</td>\n",
              "      <td>Tech meetups or events in your area;Courses on...</td>\n",
              "      <td>24.0</td>\n",
              "      <td>Man</td>\n",
              "      <td>No</td>\n",
              "      <td>Straight / Heterosexual</td>\n",
              "      <td>White or of European descent</td>\n",
              "      <td>No</td>\n",
              "      <td>Too long</td>\n",
              "      <td>Easy</td>\n",
              "    </tr>\n",
              "    <tr>\n",
              "      <th>1170</th>\n",
              "      <td>2343</td>\n",
              "      <td>I am a developer by profession</td>\n",
              "      <td>Yes</td>\n",
              "      <td>Less than once a month but more than once per ...</td>\n",
              "      <td>OSS is, on average, of LOWER quality than prop...</td>\n",
              "      <td>Employed full-time</td>\n",
              "      <td>Canada</td>\n",
              "      <td>No</td>\n",
              "      <td>Master’s degree (MA, MS, M.Eng., MBA, etc.)</td>\n",
              "      <td>Computer science, computer engineering, or sof...</td>\n",
              "      <td>...</td>\n",
              "      <td>Somewhat more welcome now than last year</td>\n",
              "      <td>Tech articles written by other developers;Indu...</td>\n",
              "      <td>27.0</td>\n",
              "      <td>Man</td>\n",
              "      <td>No</td>\n",
              "      <td>Straight / Heterosexual</td>\n",
              "      <td>Black or of African descent;White or of Europe...</td>\n",
              "      <td>No</td>\n",
              "      <td>Appropriate in length</td>\n",
              "      <td>Neither easy nor difficult</td>\n",
              "    </tr>\n",
              "    <tr>\n",
              "      <th>1171</th>\n",
              "      <td>2344</td>\n",
              "      <td>I am a developer by profession</td>\n",
              "      <td>Yes</td>\n",
              "      <td>Never</td>\n",
              "      <td>The quality of OSS and closed source software ...</td>\n",
              "      <td>Employed full-time</td>\n",
              "      <td>United States</td>\n",
              "      <td>No</td>\n",
              "      <td>Bachelor’s degree (BA, BS, B.Eng., etc.)</td>\n",
              "      <td>Computer science, computer engineering, or sof...</td>\n",
              "      <td>...</td>\n",
              "      <td>Just as welcome now as I felt last year</td>\n",
              "      <td>Tech articles written by other developers;Indu...</td>\n",
              "      <td>24.0</td>\n",
              "      <td>Man</td>\n",
              "      <td>No</td>\n",
              "      <td>Straight / Heterosexual</td>\n",
              "      <td>White or of European descent</td>\n",
              "      <td>No</td>\n",
              "      <td>Appropriate in length</td>\n",
              "      <td>Easy</td>\n",
              "    </tr>\n",
              "    <tr>\n",
              "      <th>1172</th>\n",
              "      <td>2347</td>\n",
              "      <td>I am a developer by profession</td>\n",
              "      <td>Yes</td>\n",
              "      <td>Never</td>\n",
              "      <td>OSS is, on average, of HIGHER quality than pro...</td>\n",
              "      <td>Employed full-time</td>\n",
              "      <td>United Kingdom</td>\n",
              "      <td>No</td>\n",
              "      <td>Master’s degree (MA, MS, M.Eng., MBA, etc.)</td>\n",
              "      <td>Computer science, computer engineering, or sof...</td>\n",
              "      <td>...</td>\n",
              "      <td>Just as welcome now as I felt last year</td>\n",
              "      <td>NaN</td>\n",
              "      <td>NaN</td>\n",
              "      <td>Woman</td>\n",
              "      <td>No</td>\n",
              "      <td>Straight / Heterosexual</td>\n",
              "      <td>Biracial</td>\n",
              "      <td>No</td>\n",
              "      <td>Too long</td>\n",
              "      <td>Easy</td>\n",
              "    </tr>\n",
              "    <tr>\n",
              "      <th>...</th>\n",
              "      <td>...</td>\n",
              "      <td>...</td>\n",
              "      <td>...</td>\n",
              "      <td>...</td>\n",
              "      <td>...</td>\n",
              "      <td>...</td>\n",
              "      <td>...</td>\n",
              "      <td>...</td>\n",
              "      <td>...</td>\n",
              "      <td>...</td>\n",
              "      <td>...</td>\n",
              "      <td>...</td>\n",
              "      <td>...</td>\n",
              "      <td>...</td>\n",
              "      <td>...</td>\n",
              "      <td>...</td>\n",
              "      <td>...</td>\n",
              "      <td>...</td>\n",
              "      <td>...</td>\n",
              "      <td>...</td>\n",
              "      <td>...</td>\n",
              "    </tr>\n",
              "    <tr>\n",
              "      <th>2297</th>\n",
              "      <td>4674</td>\n",
              "      <td>I am not primarily a developer, but I write co...</td>\n",
              "      <td>Yes</td>\n",
              "      <td>Less than once per year</td>\n",
              "      <td>The quality of OSS and closed source software ...</td>\n",
              "      <td>Employed full-time</td>\n",
              "      <td>Bangladesh</td>\n",
              "      <td>No</td>\n",
              "      <td>Bachelor’s degree (BA, BS, B.Eng., etc.)</td>\n",
              "      <td>NaN</td>\n",
              "      <td>...</td>\n",
              "      <td>Somewhat less welcome now than last year</td>\n",
              "      <td>Tech articles written by other developers;Indu...</td>\n",
              "      <td>31.0</td>\n",
              "      <td>Man</td>\n",
              "      <td>No</td>\n",
              "      <td>Bisexual;Gay or Lesbian;Straight / Heterosexual</td>\n",
              "      <td>Black or of African descent;Hispanic or Latino...</td>\n",
              "      <td>Yes</td>\n",
              "      <td>Too long</td>\n",
              "      <td>Neither easy nor difficult</td>\n",
              "    </tr>\n",
              "    <tr>\n",
              "      <th>2298</th>\n",
              "      <td>4675</td>\n",
              "      <td>I am a developer by profession</td>\n",
              "      <td>Yes</td>\n",
              "      <td>Never</td>\n",
              "      <td>OSS is, on average, of HIGHER quality than pro...</td>\n",
              "      <td>Employed full-time</td>\n",
              "      <td>United States</td>\n",
              "      <td>No</td>\n",
              "      <td>Bachelor’s degree (BA, BS, B.Eng., etc.)</td>\n",
              "      <td>Information systems, information technology, o...</td>\n",
              "      <td>...</td>\n",
              "      <td>Just as welcome now as I felt last year</td>\n",
              "      <td>Tech meetups or events in your area</td>\n",
              "      <td>27.0</td>\n",
              "      <td>Man</td>\n",
              "      <td>No</td>\n",
              "      <td>Straight / Heterosexual</td>\n",
              "      <td>White or of European descent</td>\n",
              "      <td>No</td>\n",
              "      <td>Appropriate in length</td>\n",
              "      <td>Easy</td>\n",
              "    </tr>\n",
              "    <tr>\n",
              "      <th>2299</th>\n",
              "      <td>4676</td>\n",
              "      <td>I am a developer by profession</td>\n",
              "      <td>Yes</td>\n",
              "      <td>Never</td>\n",
              "      <td>OSS is, on average, of HIGHER quality than pro...</td>\n",
              "      <td>Employed full-time</td>\n",
              "      <td>Finland</td>\n",
              "      <td>No</td>\n",
              "      <td>Master’s degree (MA, MS, M.Eng., MBA, etc.)</td>\n",
              "      <td>Another engineering discipline (ex. civil, ele...</td>\n",
              "      <td>...</td>\n",
              "      <td>Somewhat less welcome now than last year</td>\n",
              "      <td>NaN</td>\n",
              "      <td>36.0</td>\n",
              "      <td>Man</td>\n",
              "      <td>No</td>\n",
              "      <td>Straight / Heterosexual</td>\n",
              "      <td>White or of European descent</td>\n",
              "      <td>Yes</td>\n",
              "      <td>Too long</td>\n",
              "      <td>Easy</td>\n",
              "    </tr>\n",
              "    <tr>\n",
              "      <th>2300</th>\n",
              "      <td>4677</td>\n",
              "      <td>I am a developer by profession</td>\n",
              "      <td>Yes</td>\n",
              "      <td>Once a month or more often</td>\n",
              "      <td>OSS is, on average, of HIGHER quality than pro...</td>\n",
              "      <td>Employed full-time</td>\n",
              "      <td>United Kingdom</td>\n",
              "      <td>No</td>\n",
              "      <td>Bachelor’s degree (BA, BS, B.Eng., etc.)</td>\n",
              "      <td>A natural science (ex. biology, chemistry, phy...</td>\n",
              "      <td>...</td>\n",
              "      <td>Just as welcome now as I felt last year</td>\n",
              "      <td>NaN</td>\n",
              "      <td>40.0</td>\n",
              "      <td>Man</td>\n",
              "      <td>No</td>\n",
              "      <td>Straight / Heterosexual</td>\n",
              "      <td>White or of European descent</td>\n",
              "      <td>Yes</td>\n",
              "      <td>Appropriate in length</td>\n",
              "      <td>Easy</td>\n",
              "    </tr>\n",
              "    <tr>\n",
              "      <th>2301</th>\n",
              "      <td>4679</td>\n",
              "      <td>I am a developer by profession</td>\n",
              "      <td>Yes</td>\n",
              "      <td>Less than once a month but more than once per ...</td>\n",
              "      <td>The quality of OSS and closed source software ...</td>\n",
              "      <td>Employed full-time</td>\n",
              "      <td>United States</td>\n",
              "      <td>No</td>\n",
              "      <td>Master’s degree (MA, MS, M.Eng., MBA, etc.)</td>\n",
              "      <td>Computer science, computer engineering, or sof...</td>\n",
              "      <td>...</td>\n",
              "      <td>Just as welcome now as I felt last year</td>\n",
              "      <td>NaN</td>\n",
              "      <td>27.0</td>\n",
              "      <td>Man</td>\n",
              "      <td>No</td>\n",
              "      <td>NaN</td>\n",
              "      <td>White or of European descent</td>\n",
              "      <td>No</td>\n",
              "      <td>Appropriate in length</td>\n",
              "      <td>Easy</td>\n",
              "    </tr>\n",
              "  </tbody>\n",
              "</table>\n",
              "<p>154 rows × 85 columns</p>\n",
              "</div>"
            ],
            "text/plain": [
              "      Respondent                                         MainBranch Hobbyist  \\\n",
              "1168        2339                     I am a developer by profession      Yes   \n",
              "1169        2342                     I am a developer by profession      Yes   \n",
              "1170        2343                     I am a developer by profession      Yes   \n",
              "1171        2344                     I am a developer by profession      Yes   \n",
              "1172        2347                     I am a developer by profession      Yes   \n",
              "...          ...                                                ...      ...   \n",
              "2297        4674  I am not primarily a developer, but I write co...      Yes   \n",
              "2298        4675                     I am a developer by profession      Yes   \n",
              "2299        4676                     I am a developer by profession      Yes   \n",
              "2300        4677                     I am a developer by profession      Yes   \n",
              "2301        4679                     I am a developer by profession      Yes   \n",
              "\n",
              "                                            OpenSourcer  \\\n",
              "1168                         Once a month or more often   \n",
              "1169                                              Never   \n",
              "1170  Less than once a month but more than once per ...   \n",
              "1171                                              Never   \n",
              "1172                                              Never   \n",
              "...                                                 ...   \n",
              "2297                            Less than once per year   \n",
              "2298                                              Never   \n",
              "2299                                              Never   \n",
              "2300                         Once a month or more often   \n",
              "2301  Less than once a month but more than once per ...   \n",
              "\n",
              "                                             OpenSource          Employment  \\\n",
              "1168  OSS is, on average, of HIGHER quality than pro...  Employed full-time   \n",
              "1169  The quality of OSS and closed source software ...  Employed full-time   \n",
              "1170  OSS is, on average, of LOWER quality than prop...  Employed full-time   \n",
              "1171  The quality of OSS and closed source software ...  Employed full-time   \n",
              "1172  OSS is, on average, of HIGHER quality than pro...  Employed full-time   \n",
              "...                                                 ...                 ...   \n",
              "2297  The quality of OSS and closed source software ...  Employed full-time   \n",
              "2298  OSS is, on average, of HIGHER quality than pro...  Employed full-time   \n",
              "2299  OSS is, on average, of HIGHER quality than pro...  Employed full-time   \n",
              "2300  OSS is, on average, of HIGHER quality than pro...  Employed full-time   \n",
              "2301  The quality of OSS and closed source software ...  Employed full-time   \n",
              "\n",
              "             Country Student  \\\n",
              "1168   United States      No   \n",
              "1169  United Kingdom      No   \n",
              "1170          Canada      No   \n",
              "1171   United States      No   \n",
              "1172  United Kingdom      No   \n",
              "...              ...     ...   \n",
              "2297      Bangladesh      No   \n",
              "2298   United States      No   \n",
              "2299         Finland      No   \n",
              "2300  United Kingdom      No   \n",
              "2301   United States      No   \n",
              "\n",
              "                                                EdLevel  \\\n",
              "1168  Some college/university study without earning ...   \n",
              "1169  Some college/university study without earning ...   \n",
              "1170        Master’s degree (MA, MS, M.Eng., MBA, etc.)   \n",
              "1171           Bachelor’s degree (BA, BS, B.Eng., etc.)   \n",
              "1172        Master’s degree (MA, MS, M.Eng., MBA, etc.)   \n",
              "...                                                 ...   \n",
              "2297           Bachelor’s degree (BA, BS, B.Eng., etc.)   \n",
              "2298           Bachelor’s degree (BA, BS, B.Eng., etc.)   \n",
              "2299        Master’s degree (MA, MS, M.Eng., MBA, etc.)   \n",
              "2300           Bachelor’s degree (BA, BS, B.Eng., etc.)   \n",
              "2301        Master’s degree (MA, MS, M.Eng., MBA, etc.)   \n",
              "\n",
              "                                         UndergradMajor  ...  \\\n",
              "1168  Computer science, computer engineering, or sof...  ...   \n",
              "1169  Information systems, information technology, o...  ...   \n",
              "1170  Computer science, computer engineering, or sof...  ...   \n",
              "1171  Computer science, computer engineering, or sof...  ...   \n",
              "1172  Computer science, computer engineering, or sof...  ...   \n",
              "...                                                 ...  ...   \n",
              "2297                                                NaN  ...   \n",
              "2298  Information systems, information technology, o...  ...   \n",
              "2299  Another engineering discipline (ex. civil, ele...  ...   \n",
              "2300  A natural science (ex. biology, chemistry, phy...  ...   \n",
              "2301  Computer science, computer engineering, or sof...  ...   \n",
              "\n",
              "                                 WelcomeChange  \\\n",
              "1168   Just as welcome now as I felt last year   \n",
              "1169  Somewhat more welcome now than last year   \n",
              "1170  Somewhat more welcome now than last year   \n",
              "1171   Just as welcome now as I felt last year   \n",
              "1172   Just as welcome now as I felt last year   \n",
              "...                                        ...   \n",
              "2297  Somewhat less welcome now than last year   \n",
              "2298   Just as welcome now as I felt last year   \n",
              "2299  Somewhat less welcome now than last year   \n",
              "2300   Just as welcome now as I felt last year   \n",
              "2301   Just as welcome now as I felt last year   \n",
              "\n",
              "                                           SONewContent   Age Gender Trans  \\\n",
              "1168                                                NaN  24.0    Man    No   \n",
              "1169  Tech meetups or events in your area;Courses on...  24.0    Man    No   \n",
              "1170  Tech articles written by other developers;Indu...  27.0    Man    No   \n",
              "1171  Tech articles written by other developers;Indu...  24.0    Man    No   \n",
              "1172                                                NaN   NaN  Woman    No   \n",
              "...                                                 ...   ...    ...   ...   \n",
              "2297  Tech articles written by other developers;Indu...  31.0    Man    No   \n",
              "2298                Tech meetups or events in your area  27.0    Man    No   \n",
              "2299                                                NaN  36.0    Man    No   \n",
              "2300                                                NaN  40.0    Man    No   \n",
              "2301                                                NaN  27.0    Man    No   \n",
              "\n",
              "                                            Sexuality  \\\n",
              "1168                          Straight / Heterosexual   \n",
              "1169                          Straight / Heterosexual   \n",
              "1170                          Straight / Heterosexual   \n",
              "1171                          Straight / Heterosexual   \n",
              "1172                          Straight / Heterosexual   \n",
              "...                                               ...   \n",
              "2297  Bisexual;Gay or Lesbian;Straight / Heterosexual   \n",
              "2298                          Straight / Heterosexual   \n",
              "2299                          Straight / Heterosexual   \n",
              "2300                          Straight / Heterosexual   \n",
              "2301                                              NaN   \n",
              "\n",
              "                                              Ethnicity Dependents  \\\n",
              "1168                       White or of European descent         No   \n",
              "1169                       White or of European descent         No   \n",
              "1170  Black or of African descent;White or of Europe...         No   \n",
              "1171                       White or of European descent         No   \n",
              "1172                                           Biracial         No   \n",
              "...                                                 ...        ...   \n",
              "2297  Black or of African descent;Hispanic or Latino...        Yes   \n",
              "2298                       White or of European descent         No   \n",
              "2299                       White or of European descent        Yes   \n",
              "2300                       White or of European descent        Yes   \n",
              "2301                       White or of European descent         No   \n",
              "\n",
              "               SurveyLength                  SurveyEase  \n",
              "1168  Appropriate in length                        Easy  \n",
              "1169               Too long                        Easy  \n",
              "1170  Appropriate in length  Neither easy nor difficult  \n",
              "1171  Appropriate in length                        Easy  \n",
              "1172               Too long                        Easy  \n",
              "...                     ...                         ...  \n",
              "2297               Too long  Neither easy nor difficult  \n",
              "2298  Appropriate in length                        Easy  \n",
              "2299               Too long                        Easy  \n",
              "2300  Appropriate in length                        Easy  \n",
              "2301  Appropriate in length                        Easy  \n",
              "\n",
              "[154 rows x 85 columns]"
            ]
          },
          "execution_count": 5,
          "metadata": {},
          "output_type": "execute_result"
        }
      ],
      "source": [
        "duplicates = df[df.duplicated()]\n",
        "\n",
        "duplicates"
      ]
    },
    {
      "cell_type": "markdown",
      "metadata": {},
      "source": [
        "## Removing duplicates\n"
      ]
    },
    {
      "cell_type": "code",
      "execution_count": 6,
      "metadata": {
        "trusted": true
      },
      "outputs": [],
      "source": [
        "df.drop_duplicates(inplace=True) # Removes the duplicate rows from the dataframe\n"
      ]
    },
    {
      "cell_type": "code",
      "execution_count": 7,
      "metadata": {
        "trusted": true
      },
      "outputs": [
        {
          "name": "stdout",
          "output_type": "stream",
          "text": [
            "Empty DataFrame\n",
            "Columns: [Respondent, MainBranch, Hobbyist, OpenSourcer, OpenSource, Employment, Country, Student, EdLevel, UndergradMajor, EduOther, OrgSize, DevType, YearsCode, Age1stCode, YearsCodePro, CareerSat, JobSat, MgrIdiot, MgrMoney, MgrWant, JobSeek, LastHireDate, LastInt, FizzBuzz, JobFactors, ResumeUpdate, CurrencySymbol, CurrencyDesc, CompTotal, CompFreq, ConvertedComp, WorkWeekHrs, WorkPlan, WorkChallenge, WorkRemote, WorkLoc, ImpSyn, CodeRev, CodeRevHrs, UnitTests, PurchaseHow, PurchaseWhat, LanguageWorkedWith, LanguageDesireNextYear, DatabaseWorkedWith, DatabaseDesireNextYear, PlatformWorkedWith, PlatformDesireNextYear, WebFrameWorkedWith, WebFrameDesireNextYear, MiscTechWorkedWith, MiscTechDesireNextYear, DevEnviron, OpSys, Containers, BlockchainOrg, BlockchainIs, BetterLife, ITperson, OffOn, SocialMedia, Extraversion, ScreenName, SOVisit1st, SOVisitFreq, SOVisitTo, SOFindAnswer, SOTimeSaved, SOHowMuchTime, SOAccount, SOPartFreq, SOJobs, EntTeams, SOComm, WelcomeChange, SONewContent, Age, Gender, Trans, Sexuality, Ethnicity, Dependents, SurveyLength, SurveyEase]\n",
            "Index: []\n",
            "\n",
            "[0 rows x 85 columns]\n"
          ]
        }
      ],
      "source": [
        "duplicates = df[df.duplicated()] # checks if duplicates were actually dropped.\n",
        "\n",
        "print(duplicates)"
      ]
    },
    {
      "cell_type": "markdown",
      "metadata": {},
      "source": [
        "## Finding Missing values\n"
      ]
    },
    {
      "cell_type": "markdown",
      "metadata": {},
      "source": [
        "let's Find the missing values for all columns.\n"
      ]
    },
    {
      "cell_type": "code",
      "execution_count": 8,
      "metadata": {
        "trusted": true
      },
      "outputs": [
        {
          "name": "stdout",
          "output_type": "stream",
          "text": [
            "       Respondent  MainBranch  Hobbyist  OpenSourcer  OpenSource  Employment  \\\n",
            "0           False       False     False        False       False       False   \n",
            "1           False       False     False        False       False       False   \n",
            "2           False       False     False        False       False       False   \n",
            "3           False       False     False        False       False       False   \n",
            "4           False       False     False        False       False       False   \n",
            "...           ...         ...       ...          ...         ...         ...   \n",
            "11547       False       False     False        False       False       False   \n",
            "11548       False       False     False        False       False       False   \n",
            "11549       False       False     False        False       False       False   \n",
            "11550       False       False     False        False       False       False   \n",
            "11551       False       False     False        False       False       False   \n",
            "\n",
            "       Country  Student  EdLevel  UndergradMajor  ...  WelcomeChange  \\\n",
            "0        False    False    False           False  ...          False   \n",
            "1        False    False    False           False  ...          False   \n",
            "2        False    False    False           False  ...          False   \n",
            "3        False    False    False            True  ...          False   \n",
            "4        False    False    False           False  ...          False   \n",
            "...        ...      ...      ...             ...  ...            ...   \n",
            "11547    False    False    False           False  ...          False   \n",
            "11548    False    False    False           False  ...          False   \n",
            "11549    False    False    False           False  ...          False   \n",
            "11550    False    False    False            True  ...          False   \n",
            "11551    False    False    False           False  ...          False   \n",
            "\n",
            "       SONewContent    Age  Gender  Trans  Sexuality  Ethnicity  Dependents  \\\n",
            "0             False  False   False  False      False      False       False   \n",
            "1              True  False   False  False      False      False       False   \n",
            "2             False  False   False  False      False      False       False   \n",
            "3             False  False   False  False      False      False       False   \n",
            "4             False  False   False  False      False      False       False   \n",
            "...             ...    ...     ...    ...        ...        ...         ...   \n",
            "11547         False  False   False  False      False      False       False   \n",
            "11548         False  False   False  False      False      False       False   \n",
            "11549         False  False   False  False      False      False       False   \n",
            "11550          True  False   False  False      False      False       False   \n",
            "11551         False  False   False  False      False      False       False   \n",
            "\n",
            "       SurveyLength  SurveyEase  \n",
            "0             False       False  \n",
            "1             False       False  \n",
            "2             False       False  \n",
            "3             False       False  \n",
            "4             False       False  \n",
            "...             ...         ...  \n",
            "11547         False       False  \n",
            "11548         False       False  \n",
            "11549         False       False  \n",
            "11550         False       False  \n",
            "11551         False       False  \n",
            "\n",
            "[11398 rows x 85 columns]\n"
          ]
        }
      ],
      "source": [
        "missing_values = df.isnull()\n",
        "print(missing_values)"
      ]
    },
    {
      "cell_type": "markdown",
      "metadata": {},
      "source": [
        "Also tried to Find out how many rows are missing in the column 'WorkLoc'.\n"
      ]
    },
    {
      "cell_type": "code",
      "execution_count": 10,
      "metadata": {
        "trusted": true
      },
      "outputs": [
        {
          "data": {
            "text/plain": [
              "<bound method Series.sum of 0        False\n",
              "1        False\n",
              "2        False\n",
              "3        False\n",
              "4        False\n",
              "         ...  \n",
              "11547    False\n",
              "11548    False\n",
              "11549    False\n",
              "11550    False\n",
              "11551    False\n",
              "Name: WorkLoc, Length: 11398, dtype: bool>"
            ]
          },
          "execution_count": 10,
          "metadata": {},
          "output_type": "execute_result"
        }
      ],
      "source": [
        "missing_values = df['WorkLoc'].isna().sum\n",
        "missing_values"
      ]
    },
    {
      "cell_type": "markdown",
      "metadata": {},
      "source": [
        "## Imputing missing values\n"
      ]
    },
    {
      "cell_type": "markdown",
      "metadata": {},
      "source": [
        "let's Find the  value counts for the column WorkLoc.\n"
      ]
    },
    {
      "cell_type": "code",
      "execution_count": 11,
      "metadata": {
        "trusted": true
      },
      "outputs": [
        {
          "name": "stdout",
          "output_type": "stream",
          "text": [
            "Employment\n",
            "Employed full-time    10968\n",
            "Employed part-time      430\n",
            "Name: count, dtype: int64\n"
          ]
        }
      ],
      "source": [
        "value_count = df['Employment'].value_counts()\n",
        "\n",
        "print(value_count)\n"
      ]
    },
    {
      "cell_type": "markdown",
      "metadata": {},
      "source": [
        "Identify the value that is most frequent (majority) in the WorkLoc column.\n"
      ]
    },
    {
      "cell_type": "code",
      "execution_count": 12,
      "metadata": {
        "trusted": true
      },
      "outputs": [
        {
          "name": "stdout",
          "output_type": "stream",
          "text": [
            "The most frequent value in the WorkLoc column is: Office\n"
          ]
        }
      ],
      "source": [
        "most_frequent_workloc = df['WorkLoc'].mode()[0]\n",
        "\n",
        "print(\"The most frequent value in the WorkLoc column is:\", most_frequent_workloc)"
      ]
    },
    {
      "cell_type": "markdown",
      "metadata": {},
      "source": [
        "Impute (replace) all the empty rows in the column WorkLoc with the value that we have identified as majority.\n"
      ]
    },
    {
      "cell_type": "code",
      "execution_count": 13,
      "metadata": {
        "trusted": true
      },
      "outputs": [],
      "source": [
        "import numpy as np\n",
        "df['WorkLoc'] = np.where(df['WorkLoc'].isnull(), most_frequent_workloc, df['WorkLoc'])"
      ]
    },
    {
      "cell_type": "markdown",
      "metadata": {},
      "source": [
        "Verify if imputing was successful.\n"
      ]
    },
    {
      "cell_type": "code",
      "execution_count": 14,
      "metadata": {
        "trusted": true
      },
      "outputs": [
        {
          "name": "stdout",
          "output_type": "stream",
          "text": [
            "There are no missing values in the WorkLoc column\n"
          ]
        }
      ],
      "source": [
        "if df['WorkLoc'].isna().any():\n",
        "    print(\"There are missing values in the WorkLoc column\")\n",
        "else:\n",
        "    print(\"There are no missing values in the WorkLoc column\")"
      ]
    },
    {
      "cell_type": "markdown",
      "metadata": {},
      "source": [
        "## Normalizing data\n"
      ]
    },
    {
      "cell_type": "markdown",
      "metadata": {},
      "source": [
        "There are two columns in the dataset that talk about compensation.\n",
        "\n",
        "One is \"CompFreq\". This column shows how often a developer is paid (Yearly, Monthly, Weekly).\n",
        "\n",
        "The other is \"CompTotal\". This column talks about how much the developer is paid per Year, Month, or Week depending upon his/her \"CompFreq\". \n",
        "\n",
        "This makes it difficult to compare the total compensation of the developers.\n",
        "\n",
        "So we shall create a new column called 'NormalizedAnnualCompensation' which contains the 'Annual Compensation' irrespective of the 'CompFreq'.\n",
        "\n"
      ]
    },
    {
      "cell_type": "markdown",
      "metadata": {},
      "source": [
        "<hr>\n"
      ]
    },
    {
      "cell_type": "code",
      "execution_count": 27,
      "metadata": {
        "trusted": true
      },
      "outputs": [
        {
          "name": "stdout",
          "output_type": "stream",
          "text": [
            "Categories in the CompFreq column:\n",
            "['Yearly' 'Monthly' 'Weekly' nan]\n"
          ]
        }
      ],
      "source": [
        "# List out the various categories in the column 'CompFreq'\n",
        "comp_freq_categories = df['CompFreq'].unique()\n",
        "\n",
        "print(\"Categories in the CompFreq column:\")\n",
        "print(comp_freq_categories)"
      ]
    },
    {
      "cell_type": "code",
      "execution_count": 29,
      "metadata": {
        "trusted": true
      },
      "outputs": [],
      "source": [
        "df['NormalizedAnnualCompensation'] = np.where(df['CompFreq'] == 'Yearly', df['CompTotal'],\n",
        "                                         np.where(df['CompFreq'] == 'Monthly', df['CompTotal'] * 12,\n",
        "                                                 np.where(df['CompFreq'] == 'Weekly', df['CompTotal'] * 52, np.nan)))"
      ]
    }
  ],
  "metadata": {
    "kernelspec": {
      "display_name": "base",
      "language": "python",
      "name": "python3"
    },
    "language_info": {
      "codemirror_mode": {
        "name": "ipython",
        "version": 3
      },
      "file_extension": ".py",
      "mimetype": "text/x-python",
      "name": "python",
      "nbconvert_exporter": "python",
      "pygments_lexer": "ipython3",
      "version": "3.11.7"
    },
    "prev_pub_hash": "90ac80ca41fde58b95f02cc0cfc0a0f2ed3115615ffe1bdfdfc10fd5ffeef9a4"
  },
  "nbformat": 4,
  "nbformat_minor": 4
}
